{
  "nbformat": 4,
  "nbformat_minor": 0,
  "metadata": {
    "colab": {
      "provenance": [],
      "authorship_tag": "ABX9TyMc5yltTaZCqTqR0qopQlHA",
      "include_colab_link": true
    },
    "kernelspec": {
      "name": "python3",
      "display_name": "Python 3"
    },
    "language_info": {
      "name": "python"
    }
  },
  "cells": [
    {
      "cell_type": "markdown",
      "metadata": {
        "id": "view-in-github",
        "colab_type": "text"
      },
      "source": [
        "<a href=\"https://colab.research.google.com/github/romulo-souza/TCCrepo/blob/main/Scripts_Python/Tempo_Render/analiseTempoRender.ipynb\" target=\"_parent\"><img src=\"https://colab.research.google.com/assets/colab-badge.svg\" alt=\"Open In Colab\"/></a>"
      ]
    },
    {
      "cell_type": "code",
      "execution_count": null,
      "metadata": {
        "id": "HHvAdymUS2xf"
      },
      "outputs": [],
      "source": [
        "import pandas as pd"
      ]
    },
    {
      "cell_type": "markdown",
      "source": [
        "# Resultados Flutter"
      ],
      "metadata": {
        "id": "cRuH5aqxPpEa"
      }
    },
    {
      "cell_type": "markdown",
      "source": [
        "# Resultados React Native"
      ],
      "metadata": {
        "id": "nblo6lH4Q0hK"
      }
    }
  ]
}